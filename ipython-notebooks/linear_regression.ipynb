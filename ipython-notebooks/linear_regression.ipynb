{
 "cells": [
  {
   "cell_type": "code",
   "execution_count": 1,
   "metadata": {},
   "outputs": [],
   "source": [
    "import torch as ch\n",
    "from linear_regression import LinearRegressionClassifier"
   ]
  },
  {
   "cell_type": "code",
   "execution_count": 2,
   "metadata": {},
   "outputs": [],
   "source": [
    "x = ch.Tensor([[1.0], [2.0], [3.0]])\n",
    "y = ch.Tensor([[2.0], [4.0], [6.0]])\n",
    "test_data = ch.Tensor([[5.0], [7.0], [10.0]])"
   ]
  },
  {
   "cell_type": "code",
   "execution_count": 3,
   "metadata": {},
   "outputs": [
    {
     "data": {
      "text/plain": [
       "\n",
       "  5\n",
       "  7\n",
       " 10\n",
       "[torch.FloatTensor of size 3x1]"
      ]
     },
     "execution_count": 3,
     "metadata": {},
     "output_type": "execute_result"
    }
   ],
   "source": [
    "test_data"
   ]
  },
  {
   "cell_type": "code",
   "execution_count": 4,
   "metadata": {},
   "outputs": [],
   "source": [
    "lr = LinearRegressionClassifier()\n",
    "lr.fit(x, y, optimizer='Analytical')"
   ]
  },
  {
   "cell_type": "code",
   "execution_count": 5,
   "metadata": {},
   "outputs": [
    {
     "name": "stderr",
     "output_type": "stream",
     "text": [
      "INFO:linear_regression.LinearRegressionClassifier:Predicted value for test_data Variable containing:\n",
      " 5\n",
      "[torch.FloatTensor of size 1]\n",
      " slope \n",
      " 0\n",
      "[torch.FloatTensor of size 1]\n",
      " and bias \n",
      " 2\n",
      "[torch.FloatTensor of size 1]\n",
      " is 10.0\n",
      "INFO:linear_regression.LinearRegressionClassifier:Predicted value for test_data Variable containing:\n",
      " 7\n",
      "[torch.FloatTensor of size 1]\n",
      " slope \n",
      " 0\n",
      "[torch.FloatTensor of size 1]\n",
      " and bias \n",
      " 2\n",
      "[torch.FloatTensor of size 1]\n",
      " is 14.0\n",
      "INFO:linear_regression.LinearRegressionClassifier:Predicted value for test_data Variable containing:\n",
      " 10\n",
      "[torch.FloatTensor of size 1]\n",
      " slope \n",
      " 0\n",
      "[torch.FloatTensor of size 1]\n",
      " and bias \n",
      " 2\n",
      "[torch.FloatTensor of size 1]\n",
      " is 20.0\n"
     ]
    }
   ],
   "source": [
    "lr.predict(test_data)"
   ]
  }
 ],
 "metadata": {
  "kernelspec": {
   "display_name": "Python 3",
   "language": "python",
   "name": "python3"
  },
  "language_info": {
   "codemirror_mode": {
    "name": "ipython",
    "version": 3
   },
   "file_extension": ".py",
   "mimetype": "text/x-python",
   "name": "python",
   "nbconvert_exporter": "python",
   "pygments_lexer": "ipython3",
   "version": "3.5.2"
  }
 },
 "nbformat": 4,
 "nbformat_minor": 2
}
